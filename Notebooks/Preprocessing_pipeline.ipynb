{
 "cells": [
  {
   "cell_type": "markdown",
   "id": "1dee1da1",
   "metadata": {},
   "source": [
    "## Preprocessing pipeline\n",
    "It includes the following steps\n",
    "1. Resizing to max width of 600\n",
    "2. Applying median blur\n",
    "3. Grayscale conversion\n",
    "4. Fast Non Local Mean denoising\n",
    "5. Image segmentation\n",
    "6. Image padding\n",
    "7. Final Resizing\n",
    "8. Negative"
   ]
  },
  {
   "cell_type": "code",
   "execution_count": 1,
   "id": "f2468ad0",
   "metadata": {},
   "outputs": [],
   "source": [
    "import cv2\n",
    "import matplotlib.pyplot as plt\n",
    "import os\n",
    "import numpy as np"
   ]
  },
  {
   "cell_type": "code",
   "execution_count": 2,
   "id": "f6b09352",
   "metadata": {},
   "outputs": [
    {
     "name": "stdout",
     "output_type": "stream",
     "text": [
      "d:\\Projects\\signature_verification\\Notebooks\n",
      "d:\\Projects\\signature_verification\\dataset\n"
     ]
    }
   ],
   "source": [
    "print(os.getcwd()) \n",
    "os.chdir('../dataset/')\n",
    "print(os.getcwd()) \n"
   ]
  },
  {
   "cell_type": "markdown",
   "id": "c6f12f92",
   "metadata": {},
   "source": [
    "### 1. Resizing to max width of 600"
   ]
  },
  {
   "cell_type": "code",
   "execution_count": 3,
   "id": "5a62fbbb",
   "metadata": {},
   "outputs": [],
   "source": [
    "def resize_max_length(image, max_length=600):\n",
    "    height, width = image.shape[:2]\n",
    "    longest_side = max(height, width)\n",
    "\n",
    "    # If already smaller than or equal to max_length, return as is\n",
    "    if longest_side <= max_length:\n",
    "        return image\n",
    "\n",
    "    # Calculate scale factor and new dimensions\n",
    "    scale = max_length / longest_side\n",
    "    new_width = int(width * scale)\n",
    "    new_height = int(height * scale)\n",
    "\n",
    "    resized = cv2.resize(image, (new_width, new_height), interpolation=cv2.INTER_AREA)\n",
    "    return resized"
   ]
  },
  {
   "cell_type": "markdown",
   "id": "f1ef3dae",
   "metadata": {},
   "source": [
    "### 2. Grayscale conversion"
   ]
  },
  {
   "cell_type": "code",
   "execution_count": 4,
   "id": "611b6876",
   "metadata": {},
   "outputs": [],
   "source": [
    "def grayscale_conversion(image):\n",
    "    gray = cv2.cvtColor(image, cv2.COLOR_BGR2GRAY)\n",
    "    return gray"
   ]
  },
  {
   "cell_type": "markdown",
   "id": "b9248544",
   "metadata": {},
   "source": [
    "### 3. Fast Non Local Mean denoising"
   ]
  },
  {
   "cell_type": "code",
   "execution_count": 16,
   "id": "7409d423",
   "metadata": {},
   "outputs": [],
   "source": [
    "def FNLM_denoising(image):\n",
    "    denoised = cv2.fastNlMeansDenoising(\n",
    "        src=image,              # input image (must be grayscale)\n",
    "        h=10,                  # filter strength (recommended: 3-10)\n",
    "        templateWindowSize=10, # size of the template patch\n",
    "        searchWindowSize=21    # size of the window to search for similar patches\n",
    "    )\n",
    "    return denoised"
   ]
  },
  {
   "cell_type": "markdown",
   "id": "ad6680ff",
   "metadata": {},
   "source": [
    "### 4. Image segmentation"
   ]
  },
  {
   "cell_type": "code",
   "execution_count": 6,
   "id": "6de76dcf",
   "metadata": {},
   "outputs": [],
   "source": [
    "def image_segmentation(gray_image):\n",
    "    threshold_value = int(np.mean(gray_image))\n",
    "    _, segmented = cv2.threshold(gray_image, threshold_value, 255, cv2.THRESH_BINARY)\n",
    "    return segmented"
   ]
  },
  {
   "cell_type": "markdown",
   "id": "56e1dfe4",
   "metadata": {},
   "source": [
    "### 5. Image padding"
   ]
  },
  {
   "cell_type": "code",
   "execution_count": 7,
   "id": "f60c176e",
   "metadata": {},
   "outputs": [],
   "source": [
    "def pad_to_square(image):\n",
    "    height, width = image.shape[:2]\n",
    "\n",
    "    # Initialize padding\n",
    "    leftPad = rightPad = topPad = bottomPad = 0\n",
    "\n",
    "    # Determine padding needed\n",
    "    if width < height:\n",
    "        pad = (height - width) // 2\n",
    "        leftPad = pad\n",
    "        rightPad = height - width - pad  # to handle odd differences\n",
    "    else:\n",
    "        pad = (width - height) // 2\n",
    "        topPad = pad\n",
    "        bottomPad = width - height - pad\n",
    "\n",
    "    # Apply padding (with white background = 255)\n",
    "    color = [255, 255, 255] if len(image.shape) == 3 else 255\n",
    "    padded_image = cv2.copyMakeBorder(\n",
    "        image,\n",
    "        top=topPad,\n",
    "        bottom=bottomPad,\n",
    "        left=leftPad,\n",
    "        right=rightPad,\n",
    "        borderType=cv2.BORDER_CONSTANT,\n",
    "        value=color\n",
    "    )\n",
    "\n",
    "    return padded_image"
   ]
  },
  {
   "cell_type": "markdown",
   "id": "565f370b",
   "metadata": {},
   "source": [
    "### 6. Final resizing"
   ]
  },
  {
   "cell_type": "code",
   "execution_count": 8,
   "id": "e0cc978a",
   "metadata": {},
   "outputs": [],
   "source": [
    "def final_resize(image, target_size=(224, 224)):\n",
    "    resized = cv2.resize(image, target_size, interpolation=cv2.INTER_AREA)\n",
    "    return resized"
   ]
  },
  {
   "cell_type": "markdown",
   "id": "88e90076",
   "metadata": {},
   "source": [
    "### 7. Performing negative"
   ]
  },
  {
   "cell_type": "code",
   "execution_count": 9,
   "id": "5150c683",
   "metadata": {},
   "outputs": [],
   "source": [
    "def negative_image(image):\n",
    "    negative = 255 - image\n",
    "    return negative"
   ]
  },
  {
   "cell_type": "markdown",
   "id": "1a0ef3d0",
   "metadata": {},
   "source": [
    "## final preprocessing module"
   ]
  },
  {
   "cell_type": "code",
   "execution_count": 10,
   "id": "ac948602",
   "metadata": {},
   "outputs": [],
   "source": [
    "def preprocessing_block(image):\n",
    "    resized = resize_max_length(image)    \n",
    "    gray = grayscale_conversion(resized)\n",
    "    denoised = FNLM_denoising(gray)\n",
    "    segmented = image_segmentation(denoised)\n",
    "    padded_image = pad_to_square(segmented)\n",
    "    final_resized_img = final_resize(padded_image)\n",
    "    negative = 255 - final_resized_img\n",
    "    return negative"
   ]
  },
  {
   "cell_type": "code",
   "execution_count": 20,
   "id": "8a25a0a8",
   "metadata": {},
   "outputs": [
    {
     "name": "stdout",
     "output_type": "stream",
     "text": [
      "d:\\Projects\\signature_verification\\dataset\n",
      "['1', '10', '2', '3', '4', '5', '6', '7', '8', '9']\n",
      "d:\\Projects\\signature_verification\\dataset/Genuine/\n"
     ]
    }
   ],
   "source": [
    "print(os.getcwd())\n",
    "source_path = os.getcwd() + '/Genuine/'\n",
    "destination_path = '../Preprocessed/Genuine/'\n",
    "print(os.listdir(source_path))\n",
    "\n",
    "\n",
    "\n",
    "print(source_path)\n",
    "for i in range(1,11):\n",
    "    files = os.listdir(os.path.join(source_path,str(i)))\n",
    "    files.sort()  # Sort files to maintain order\n",
    "    for file in files:\n",
    "        read_img = cv2.imread(os.path.join(source_path,str(i),file))\n",
    "        preprocessed_image = preprocessing_block(read_img)\n",
    "        cv2.imwrite(destination_path + str(i) + '/' + file.split('.')[0] + '_pp.tif', preprocessed_image)\n",
    "         \n",
    " \n",
    "    "
   ]
  },
  {
   "cell_type": "markdown",
   "id": "16101202",
   "metadata": {},
   "source": [
    "## Dataset splitting"
   ]
  },
  {
   "cell_type": "code",
   "execution_count": 25,
   "id": "6925b190",
   "metadata": {},
   "outputs": [
    {
     "name": "stdout",
     "output_type": "stream",
     "text": [
      "d:\\Projects\\signature_verification\\dataset\n"
     ]
    }
   ],
   "source": [
    "print(os.getcwd())\n",
    "for i in range(1,11):\n",
    "    for file in ['test', 'train', 'valid']:\n",
    "        os.mkdir('../Final_dataset/' + str(i) + f\"/{file}/\" + 'Forgery')\n",
    "        os.mkdir('../Final_dataset/' + str(i) + f\"/{file}/\" + 'Genuine')\n",
    "        \n"
   ]
  },
  {
   "cell_type": "code",
   "execution_count": 27,
   "id": "4dbf202b",
   "metadata": {},
   "outputs": [
    {
     "name": "stdout",
     "output_type": "stream",
     "text": [
      "d:\\Projects\\signature_verification\\dataset\\Genuine\n",
      "d:\\Projects\\signature_verification\\dataset\n"
     ]
    }
   ],
   "source": [
    "src_path = os.path.join(os.getcwd(), 'Genuine')\n",
    "print(src_path)\n",
    "print(os.getcwd())"
   ]
  },
  {
   "cell_type": "code",
   "execution_count": 37,
   "id": "f231fd89",
   "metadata": {},
   "outputs": [],
   "source": [
    "import os\n",
    "import shutil\n",
    "import random"
   ]
  },
  {
   "cell_type": "markdown",
   "id": "0bac7688",
   "metadata": {},
   "source": [
    "Converting the preprocessed dataset in following format\n",
    "```\n",
    "Split_dataset/\n",
    "├── train/\n",
    "│   ├── Genuine/\n",
    "│   └── Forgery/\n",
    "├── valid/\n",
    "│   ├── Genuine/\n",
    "│   └── Forgery/\n",
    "└── test/\n",
    "    ├── Genuine/\n",
    "    └── Forgery/\n",
    "```"
   ]
  },
  {
   "cell_type": "code",
   "execution_count": 42,
   "id": "82519d24",
   "metadata": {},
   "outputs": [],
   "source": [
    "split = (0.7, 0.2, 0.1)  # train, valid, test split ratios\n",
    "categories = [\"Genuine\", \"Forgery\"]\n",
    "for category in categories:\n",
    "    for i in range(2,11):\n",
    "        src_path = os.getcwd()+ '/' + category + f'/{str(i)}/'\n",
    "        dest_dir = '../Final_dataset/'+ str(i)  # Adjust as needed for your dataset structure\n",
    "        files = sorted(os.listdir(src_path))  # Sort for consistency\n",
    "        random.shuffle(files) \n",
    "\n",
    "        total = len(files)\n",
    "        train_end = int(split[0] * total)\n",
    "        valid_end = train_end + int(split[1] * total)\n",
    "        \n",
    "        splits = {\n",
    "                \"train\": files[:train_end],\n",
    "                \"valid\": files[train_end:valid_end],\n",
    "                \"test\":  files[valid_end:]\n",
    "            }\n",
    "        \n",
    "        for split_name, file_list in splits.items():\n",
    "            dst_folder = os.path.join(dest_dir, split_name, category)\n",
    "            os.makedirs(dst_folder, exist_ok=True)\n",
    "\n",
    "            for file in file_list:\n",
    "                src_file = os.path.join(src_path, file)\n",
    "                dst_file = os.path.join(dst_folder, file)\n",
    "                shutil.copy2(src_file, dst_file)\n"
   ]
  }
 ],
 "metadata": {
  "kernelspec": {
   "display_name": "myenv",
   "language": "python",
   "name": "python3"
  },
  "language_info": {
   "codemirror_mode": {
    "name": "ipython",
    "version": 3
   },
   "file_extension": ".py",
   "mimetype": "text/x-python",
   "name": "python",
   "nbconvert_exporter": "python",
   "pygments_lexer": "ipython3",
   "version": "3.11.8"
  }
 },
 "nbformat": 4,
 "nbformat_minor": 5
}
