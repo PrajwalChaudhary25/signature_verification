{
 "cells": [
  {
   "cell_type": "markdown",
   "id": "a5010ee2",
   "metadata": {},
   "source": [
    "## About\n"
   ]
  },
  {
   "cell_type": "markdown",
   "id": "77a6e483",
   "metadata": {},
   "source": [
    "This is a markdown file for studying advanced augmentations"
   ]
  }
 ],
 "metadata": {
  "kernelspec": {
   "display_name": "Python 3",
   "language": "python",
   "name": "python3"
  },
  "language_info": {
   "codemirror_mode": {
    "name": "ipython",
    "version": 3
   },
   "file_extension": ".py",
   "mimetype": "text/x-python",
   "name": "python",
   "nbconvert_exporter": "python",
   "pygments_lexer": "ipython3",
   "version": "3.11.8"
  }
 },
 "nbformat": 4,
 "nbformat_minor": 5
}
